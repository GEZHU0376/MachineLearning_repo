{
 "cells": [
  {
   "cell_type": "code",
   "execution_count": 5,
   "metadata": {},
   "outputs": [
    {
     "data": {
      "text/plain": [
       "<matplotlib.collections.PathCollection at 0x1a1986a250>"
      ]
     },
     "execution_count": 5,
     "metadata": {},
     "output_type": "execute_result"
    },
    {
     "data": {
      "image/png": "[encoded data removed]",
      "text/plain": [
       "<Figure size 432x288 with 1 Axes>"
      ]
     },
     "metadata": {
      "needs_background": "light"
     },
     "output_type": "display_data"
    }
   ],
   "source": [
    "# Linear regression on page speed and purchase amount\n",
    "# generated with random data\n",
    "\n",
    "%matplotlib inline\n",
    "import numpy as np\n",
    "import matplotlib.pyplot as plt\n",
    "from pylab import *\n",
    "from scipy import stats\n",
    "\n",
    "# page rendering speed and purchase: std 1 second center around 3.0 and 1000 datapoint\n",
    "pageSpeeds = np.random.normal(2.0, 1.0, 3000)\n",
    "purchaseAmount = 100 - (pageSpeeds + np.random.normal(0, 0.1, 3000)) * 3\n",
    "\n",
    "# scatterplot page speed v.s purchase amount\n",
    "# should be a linear relation\n",
    "scatter(pageSpeeds, purchaseAmount)\n"
   ]
  },
  {
   "cell_type": "code",
   "execution_count": 6,
   "metadata": {},
   "outputs": [],
   "source": [
    "# get full package from the scipy stat lib\n",
    "slope, intercept, r_value, p_value, std_err = stats.linregress(pageSpeeds, purchaseAmount)\n"
   ]
  },
  {
   "cell_type": "code",
   "execution_count": 7,
   "metadata": {},
   "outputs": [
    {
     "data": {
      "text/plain": [
       "0.9899254667954074"
      ]
     },
     "execution_count": 7,
     "metadata": {},
     "output_type": "execute_result"
    }
   ],
   "source": [
    "# test on r-squared \n",
    "r_value ** 2"
   ]
  },
  {
   "cell_type": "code",
   "execution_count": null,
   "metadata": {},
   "outputs": [],
   "source": [
    "# predict function for future data using linear equati\n",
    "def predict(x):\n",
    "    # y = kx + b\n",
    "    return slope * x + intercept\n"
   ]
  }
 ],
 "metadata": {
  "kernelspec": {
   "display_name": "Python 3",
   "language": "python",
   "name": "python3"
  },
  "language_info": {
   "codemirror_mode": {
    "name": "ipython",
    "version": 3
   },
   "file_extension": ".py",
   "mimetype": "text/x-python",
   "name": "python",
   "nbconvert_exporter": "python",
   "pygments_lexer": "ipython3",
   "version": "3.7.6"
  }
 },
 "nbformat": 4,
 "nbformat_minor": 4
}
